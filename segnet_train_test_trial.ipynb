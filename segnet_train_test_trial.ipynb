{
 "cells": [
  {
   "cell_type": "code",
   "execution_count": 19,
   "id": "098529f7",
   "metadata": {},
   "outputs": [],
   "source": [
    "from src.segnet_model import SegNet\n",
    "from src.dataset import SegmentationDataset \n",
    "from src.evaluate import evaluate_model\n",
    "\n",
    "import torch\n",
    "from torchvision import transforms\n",
    "import numpy as np\n",
    "from PIL import Image\n",
    "import matplotlib.pyplot as plt"
   ]
  },
  {
   "cell_type": "code",
   "execution_count": 23,
   "id": "08a22b9f",
   "metadata": {},
   "outputs": [],
   "source": [
    "DEVICE = torch.device(\"cuda\" if torch.cuda.is_available() else \"cpu\")\n",
    "IDD_prepared_path = 'data/idd20k_lite_prepared'\n",
    "\n",
    "data_transforms = transforms.Compose([\n",
    "    transforms.Resize((256, 256)),\n",
    "    transforms.ToTensor(),\n",
    "])"
   ]
  },
  {
   "cell_type": "code",
   "execution_count": 24,
   "id": "9c7c03a1",
   "metadata": {},
   "outputs": [
    {
     "name": "stderr",
     "output_type": "stream",
     "text": [
      "  0%|          | 0/204 [00:00<?, ?it/s]"
     ]
    },
    {
     "name": "stderr",
     "output_type": "stream",
     "text": [
      "100%|██████████| 204/204 [00:05<00:00, 34.03it/s]"
     ]
    },
    {
     "name": "stdout",
     "output_type": "stream",
     "text": [
      "\n",
      "Mean IoU: 0.4989\n",
      "Class 0: IoU = 0.8857\n",
      "Class 1: IoU = 0.2213\n",
      "Class 2: IoU = 0.0000\n",
      "Class 3: IoU = 0.5374\n",
      "Class 4: IoU = 0.2703\n",
      "Class 5: IoU = 0.6643\n",
      "Class 6: IoU = 0.9135\n",
      "Class 7: IoU = nan\n",
      "Class 8: IoU = nan\n",
      "Class 9: IoU = nan\n",
      "Class 10: IoU = nan\n",
      "Class 11: IoU = nan\n",
      "Class 12: IoU = nan\n",
      "Class 13: IoU = nan\n",
      "Class 14: IoU = nan\n",
      "Class 15: IoU = nan\n",
      "Class 16: IoU = nan\n",
      "Class 17: IoU = nan\n",
      "Class 18: IoU = nan\n",
      "Class 19: IoU = nan\n",
      "Class 20: IoU = nan\n",
      "Class 21: IoU = nan\n",
      "Class 22: IoU = nan\n",
      "Class 23: IoU = nan\n",
      "Class 24: IoU = nan\n",
      "Class 25: IoU = nan\n",
      "Class 26: IoU = nan\n",
      "Class 27: IoU = nan\n",
      "Class 28: IoU = nan\n",
      "Class 29: IoU = nan\n",
      "Class 30: IoU = nan\n",
      "Class 31: IoU = nan\n",
      "Class 32: IoU = nan\n",
      "Class 33: IoU = nan\n"
     ]
    },
    {
     "name": "stderr",
     "output_type": "stream",
     "text": [
      "\n"
     ]
    }
   ],
   "source": [
    "model = SegNet(in_channels=3, num_classes=34)\n",
    "model.load_state_dict(torch.load('trained_models/segnet_10_20250504_090606.pth'))\n",
    "model.to(DEVICE)\n",
    "model.eval()\n",
    "\n",
    "test_dataset = SegmentationDataset(IDD_prepared_path, transform=data_transforms, mode='val')\n",
    "test_loader = torch.utils.data.DataLoader(test_dataset, batch_size=1, shuffle=False)\n",
    "\n",
    "ious, mean_iou = evaluate_model(model, test_loader, DEVICE)\n",
    "\n",
    "print(f\"\\nMean IoU: {mean_iou:.4f}\")\n",
    "for i, iou in enumerate(ious):\n",
    "    print(f\"Class {i}: IoU = {iou:.4f}\")\n"
   ]
  }
 ],
 "metadata": {
  "kernelspec": {
   "display_name": "cloudspace",
   "language": "python",
   "name": "python3"
  },
  "language_info": {
   "codemirror_mode": {
    "name": "ipython",
    "version": 3
   },
   "file_extension": ".py",
   "mimetype": "text/x-python",
   "name": "python",
   "nbconvert_exporter": "python",
   "pygments_lexer": "ipython3",
   "version": "3.10.10"
  }
 },
 "nbformat": 4,
 "nbformat_minor": 5
}
